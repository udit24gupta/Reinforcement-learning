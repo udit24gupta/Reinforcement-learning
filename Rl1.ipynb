{
  "nbformat": 4,
  "nbformat_minor": 0,
  "metadata": {
    "colab": {
      "provenance": [],
      "authorship_tag": "ABX9TyPeWZfDjK/U/h2AdiMPMIk6",
      "include_colab_link": true
    },
    "kernelspec": {
      "name": "python3",
      "display_name": "Python 3"
    },
    "language_info": {
      "name": "python"
    }
  },
  "cells": [
    {
      "cell_type": "markdown",
      "metadata": {
        "id": "view-in-github",
        "colab_type": "text"
      },
      "source": [
        "<a href=\"https://colab.research.google.com/github/udit24gupta/Reinforcement-learning/blob/main/Rl1.ipynb\" target=\"_parent\"><img src=\"https://colab.research.google.com/assets/colab-badge.svg\" alt=\"Open In Colab\"/></a>"
      ]
    },
    {
      "cell_type": "code",
      "execution_count": null,
      "metadata": {
        "colab": {
          "base_uri": "https://localhost:8080/"
        },
        "id": "IUkdLTYIq35n",
        "outputId": "0fe2abb1-1695-4d5f-84cd-de3ef3622787"
      },
      "outputs": [
        {
          "output_type": "stream",
          "name": "stdout",
          "text": [
            "<class 'int'>\n",
            "3\n",
            "4\n",
            "6\n",
            "9\n",
            "4\n"
          ]
        }
      ],
      "source": [
        "x = 3\n",
        "print(type(x))\n",
        "print(x)\n",
        "print(x+1)\n",
        "print(x*2)\n",
        "print(x**2)\n",
        "x += 1\n",
        "print(x)"
      ]
    },
    {
      "cell_type": "code",
      "source": [
        "t = True\n",
        "f = False\n",
        "print(type(t))\n",
        "print(t and f)\n",
        "print(t or f)\n",
        "print(not f)\n",
        "print(t != f)"
      ],
      "metadata": {
        "colab": {
          "base_uri": "https://localhost:8080/"
        },
        "id": "ILUH7qqc8UjV",
        "outputId": "dae302e9-35e5-47be-ce81-8057c512bb42"
      },
      "execution_count": null,
      "outputs": [
        {
          "output_type": "stream",
          "name": "stdout",
          "text": [
            "<class 'bool'>\n",
            "False\n",
            "True\n",
            "True\n",
            "True\n"
          ]
        }
      ]
    },
    {
      "cell_type": "code",
      "source": [
        "x = 'hello'\n",
        "print(x)\n",
        "print(len(x))\n",
        "h1 = '{},{},{}'.format('hello','world','12')\n",
        "print(h1)"
      ],
      "metadata": {
        "colab": {
          "base_uri": "https://localhost:8080/"
        },
        "id": "cJr8vNoU82tL",
        "outputId": "9ca3b206-c189-4a88-ce9c-b8ff29e7cfe5"
      },
      "execution_count": null,
      "outputs": [
        {
          "output_type": "stream",
          "name": "stdout",
          "text": [
            "hello\n",
            "5\n",
            "hello,world,12\n"
          ]
        }
      ]
    },
    {
      "cell_type": "code",
      "source": [
        "x = 'hello'\n",
        "print(x.capitalize())\n",
        "print(x.upper())\n",
        "print(x.rjust(7))\n",
        "print(x.center(7))\n",
        "print(x.replace('l','o'))\n",
        "print('   world'.strip())"
      ],
      "metadata": {
        "colab": {
          "base_uri": "https://localhost:8080/"
        },
        "id": "LefFVngN9QOq",
        "outputId": "c01072f5-99c4-4eff-a34d-cb8d609cd8cf"
      },
      "execution_count": null,
      "outputs": [
        {
          "output_type": "stream",
          "name": "stdout",
          "text": [
            "Hello\n",
            "HELLO\n",
            "  hello\n",
            " hello \n",
            "heooo\n",
            "world\n"
          ]
        }
      ]
    },
    {
      "cell_type": "code",
      "source": [
        "ls = [1,2,3]\n",
        "print(ls[2])\n",
        "print(ls[-1])\n",
        "ls.append('bar')\n",
        "print(ls)"
      ],
      "metadata": {
        "colab": {
          "base_uri": "https://localhost:8080/"
        },
        "id": "OPCjYWme90Xe",
        "outputId": "1c8fbdd1-2e1e-49c2-d86a-4b6b86d72e69"
      },
      "execution_count": null,
      "outputs": [
        {
          "output_type": "stream",
          "name": "stdout",
          "text": [
            "3\n",
            "3\n",
            "[1, 2, 3, 'bar']\n"
          ]
        }
      ]
    },
    {
      "cell_type": "code",
      "source": [
        "num = list(range(5))\n",
        "print(num)\n",
        "print(num[2:4])\n",
        "print(num[2:])\n",
        "print(num[:2])\n",
        "print(num[:])"
      ],
      "metadata": {
        "colab": {
          "base_uri": "https://localhost:8080/"
        },
        "id": "aOYtnZnvDZRc",
        "outputId": "f55887b0-62b0-4db3-f7d7-cb136e6aaa71"
      },
      "execution_count": null,
      "outputs": [
        {
          "output_type": "stream",
          "name": "stdout",
          "text": [
            "[0, 1, 2, 3, 4]\n",
            "[2, 3]\n",
            "[2, 3, 4]\n",
            "[0, 1]\n",
            "[0, 1, 2, 3, 4]\n"
          ]
        }
      ]
    },
    {
      "cell_type": "code",
      "source": [
        "animals = ['cat', 'dog', 'monkey']\n",
        "for animal in animals:\n",
        "  print(animal)"
      ],
      "metadata": {
        "colab": {
          "base_uri": "https://localhost:8080/"
        },
        "id": "Wv4pHlz6DslM",
        "outputId": "aa818eb1-5992-49d7-a43c-42bd7ab5879a"
      },
      "execution_count": null,
      "outputs": [
        {
          "output_type": "stream",
          "name": "stdout",
          "text": [
            "cat\n",
            "dog\n",
            "monkey\n"
          ]
        }
      ]
    },
    {
      "cell_type": "code",
      "source": [
        "animals = ['cat','dog','monkey']\n",
        "for idx, animal in enumerate(animals):\n",
        "  print('{}'.format(idx+1, animal))"
      ],
      "metadata": {
        "colab": {
          "base_uri": "https://localhost:8080/"
        },
        "id": "ZMYxbGM4EKIy",
        "outputId": "6dab9556-dee9-4928-bfcd-87d587c6dc06"
      },
      "execution_count": null,
      "outputs": [
        {
          "output_type": "stream",
          "name": "stdout",
          "text": [
            "1\n",
            "2\n",
            "3\n"
          ]
        }
      ]
    },
    {
      "cell_type": "code",
      "source": [
        "num = [0,1,2,3,4]\n",
        "ls = []\n",
        "for x in num:\n",
        "  ls.append(x**2)\n",
        "print(ls)"
      ],
      "metadata": {
        "colab": {
          "base_uri": "https://localhost:8080/"
        },
        "id": "N8qtUsxfEaHc",
        "outputId": "6e749fe6-fd01-41c2-b9a6-076f628efc49"
      },
      "execution_count": null,
      "outputs": [
        {
          "output_type": "stream",
          "name": "stdout",
          "text": [
            "[0, 1, 4, 9, 16]\n"
          ]
        }
      ]
    },
    {
      "cell_type": "code",
      "source": [
        "nums = [0, 1, 2, 3, 4]\n",
        "even = [x ** 2 for x in nums if x % 2 == 0]\n",
        "print(even)"
      ],
      "metadata": {
        "colab": {
          "base_uri": "https://localhost:8080/"
        },
        "id": "J7gvTITZE7Kx",
        "outputId": "7070741a-9e01-4493-e0c5-502174aff19a"
      },
      "execution_count": null,
      "outputs": [
        {
          "output_type": "stream",
          "name": "stdout",
          "text": [
            "[0, 4, 16]\n"
          ]
        }
      ]
    },
    {
      "cell_type": "code",
      "source": [],
      "metadata": {
        "id": "chPzpF88E_dL"
      },
      "execution_count": null,
      "outputs": []
    }
  ]
}